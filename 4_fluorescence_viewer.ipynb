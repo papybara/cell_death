{
 "cells": [
  {
   "cell_type": "markdown",
   "id": "31233f0c",
   "metadata": {},
   "source": [
    "<h1> Fluorescence Overlay </h1>"
   ]
  },
  {
   "cell_type": "code",
   "execution_count": 1,
   "id": "0fecb23a",
   "metadata": {},
   "outputs": [],
   "source": [
    "import napari\n",
    "viewer = napari.Viewer()"
   ]
  },
  {
   "cell_type": "code",
   "execution_count": 5,
   "id": "bdd619fd",
   "metadata": {},
   "outputs": [
    {
     "data": {
      "text/plain": [
       "<Image layer 'image' at 0x14e2f3ea000>"
      ]
     },
     "execution_count": 5,
     "metadata": {},
     "output_type": "execute_result"
    }
   ],
   "source": [
    "path = r\"C:\\rkka_Projects\\cell_death_v2\\Data\\8. A549 cell death(20250404)\\250404.153021.A549_death_01_TNFa.001.Group4.C3.T001P04.TCF\"\n",
    "file = TCFile(path, '2DMIP')\n",
    "image = np.array([utils.resize_tomogram_mip(f, data_resolution=file.data_resolution, target_resolution=0.1632, mode='mip') for f in file])\n",
    "viewer.add_image(image)"
   ]
  },
  {
   "cell_type": "code",
   "execution_count": null,
   "id": "15383daf",
   "metadata": {},
   "outputs": [
    {
     "ename": "AssertionError",
     "evalue": "The current imgtype is not supported in this file",
     "output_type": "error",
     "traceback": [
      "\u001b[1;31m---------------------------------------------------------------------------\u001b[0m",
      "\u001b[1;31mAssertionError\u001b[0m                            Traceback (most recent call last)",
      "Cell \u001b[1;32mIn[4], line 20\u001b[0m\n\u001b[0;32m     18\u001b[0m \u001b[38;5;28;01mfor\u001b[39;00m time \u001b[38;5;129;01min\u001b[39;00m \u001b[38;5;28mrange\u001b[39m(\u001b[38;5;28mlen\u001b[39m(base)):\n\u001b[0;32m     19\u001b[0m     \u001b[38;5;28;01mfor\u001b[39;00m i \u001b[38;5;129;01min\u001b[39;00m \u001b[38;5;28mrange\u001b[39m(\u001b[38;5;241m1\u001b[39m):\n\u001b[1;32m---> 20\u001b[0m         file \u001b[38;5;241m=\u001b[39m TCFile(path, \u001b[38;5;124m'\u001b[39m\u001b[38;5;124m3DFL\u001b[39m\u001b[38;5;124m'\u001b[39m, channel\u001b[38;5;241m=\u001b[39mi, only_one\u001b[38;5;241m=\u001b[39m\u001b[38;5;28;01mTrue\u001b[39;00m)\n\u001b[0;32m     21\u001b[0m         temp \u001b[38;5;241m=\u001b[39m np\u001b[38;5;241m.\u001b[39mmax(file[time], axis\u001b[38;5;241m=\u001b[39m\u001b[38;5;241m0\u001b[39m)\n\u001b[0;32m     22\u001b[0m         temp \u001b[38;5;241m=\u001b[39m cv2\u001b[38;5;241m.\u001b[39mresize(temp, dsize\u001b[38;5;241m=\u001b[39mbase_stack[\u001b[38;5;241m0\u001b[39m]\u001b[38;5;241m.\u001b[39mshape)\n",
      "File \u001b[1;32mc:\\miniconda3\\envs\\cell\\Lib\\site-packages\\TCFile\\TCFile_class.py:18\u001b[0m, in \u001b[0;36mTCFile\u001b[1;34m(tcfname, imgtype, channel, only_one)\u001b[0m\n\u001b[0;32m     16\u001b[0m     \u001b[38;5;28;01mreturn\u001b[39;00m TCFileBF(tcfname)\n\u001b[0;32m     17\u001b[0m \u001b[38;5;28;01mif\u001b[39;00m imgtype \u001b[38;5;241m==\u001b[39m \u001b[38;5;124m'\u001b[39m\u001b[38;5;124m3DFL\u001b[39m\u001b[38;5;124m'\u001b[39m:\n\u001b[1;32m---> 18\u001b[0m     \u001b[38;5;28;01mreturn\u001b[39;00m TCFileFL3D(tcfname, channel, only_one)\n\u001b[0;32m     19\u001b[0m \u001b[38;5;28;01mraise\u001b[39;00m \u001b[38;5;167;01mValueError\u001b[39;00m(\u001b[38;5;124m'\u001b[39m\u001b[38;5;124mUnsupported imgtype: Supported imgtypes are \u001b[39m\u001b[38;5;124m\"\u001b[39m\u001b[38;5;124m3D\u001b[39m\u001b[38;5;124m\"\u001b[39m\u001b[38;5;124m,\u001b[39m\u001b[38;5;124m\"\u001b[39m\u001b[38;5;124m2DMIP\u001b[39m\u001b[38;5;124m\"\u001b[39m\u001b[38;5;124m, and \u001b[39m\u001b[38;5;124m\"\u001b[39m\u001b[38;5;124mBF\u001b[39m\u001b[38;5;124m\"\u001b[39m\u001b[38;5;124m'\u001b[39m)\n",
      "File \u001b[1;32mc:\\miniconda3\\envs\\cell\\Lib\\site-packages\\TCFile\\TCFile_class.py:255\u001b[0m, in \u001b[0;36mTCFileFL3D.__init__\u001b[1;34m(self, tcfname, channel, only_one)\u001b[0m\n\u001b[0;32m    253\u001b[0m \u001b[38;5;28mself\u001b[39m\u001b[38;5;241m.\u001b[39mchannel \u001b[38;5;241m=\u001b[39m channel\n\u001b[0;32m    254\u001b[0m \u001b[38;5;28mself\u001b[39m\u001b[38;5;241m.\u001b[39monly_one \u001b[38;5;241m=\u001b[39m only_one\n\u001b[1;32m--> 255\u001b[0m \u001b[38;5;28msuper\u001b[39m()\u001b[38;5;241m.\u001b[39m\u001b[38;5;21m__init__\u001b[39m(tcfname)\n\u001b[0;32m    256\u001b[0m \u001b[38;5;28;01mwith\u001b[39;00m h5py\u001b[38;5;241m.\u001b[39mFile(\u001b[38;5;28mself\u001b[39m\u001b[38;5;241m.\u001b[39mtcfname, \u001b[38;5;124m'\u001b[39m\u001b[38;5;124mr\u001b[39m\u001b[38;5;124m'\u001b[39m) \u001b[38;5;28;01mas\u001b[39;00m f:\n\u001b[0;32m    257\u001b[0m     \u001b[38;5;28mself\u001b[39m\u001b[38;5;241m.\u001b[39mmax_channels \u001b[38;5;241m=\u001b[39m \u001b[38;5;28mself\u001b[39m\u001b[38;5;241m.\u001b[39mget_attr(f, \u001b[38;5;124mf\u001b[39m\u001b[38;5;124m'\u001b[39m\u001b[38;5;124m/Data/\u001b[39m\u001b[38;5;132;01m{\u001b[39;00m\u001b[38;5;28mself\u001b[39m\u001b[38;5;241m.\u001b[39mimgtype\u001b[38;5;132;01m}\u001b[39;00m\u001b[38;5;124m'\u001b[39m, \u001b[38;5;124m'\u001b[39m\u001b[38;5;124mChannels\u001b[39m\u001b[38;5;124m'\u001b[39m)\n",
      "File \u001b[1;32mc:\\miniconda3\\envs\\cell\\Lib\\site-packages\\TCFile\\TCFile_class.py:62\u001b[0m, in \u001b[0;36mTCFileAbstract.__init__\u001b[1;34m(self, tcfname)\u001b[0m\n\u001b[0;32m     60\u001b[0m \u001b[38;5;28;01mwith\u001b[39;00m h5py\u001b[38;5;241m.\u001b[39mFile(tcfname) \u001b[38;5;28;01mas\u001b[39;00m tcf_io:\n\u001b[0;32m     61\u001b[0m     \u001b[38;5;28;01massert\u001b[39;00m \u001b[38;5;124m'\u001b[39m\u001b[38;5;124mData\u001b[39m\u001b[38;5;124m'\u001b[39m \u001b[38;5;129;01min\u001b[39;00m tcf_io, \u001b[38;5;124m'\u001b[39m\u001b[38;5;124mThe given file is not TCF file\u001b[39m\u001b[38;5;124m'\u001b[39m\n\u001b[1;32m---> 62\u001b[0m     \u001b[38;5;28;01massert\u001b[39;00m \u001b[38;5;28mself\u001b[39m\u001b[38;5;241m.\u001b[39mimgtype \u001b[38;5;129;01min\u001b[39;00m tcf_io[\u001b[38;5;124m'\u001b[39m\u001b[38;5;124mData\u001b[39m\u001b[38;5;124m'\u001b[39m], \u001b[38;5;124m'\u001b[39m\u001b[38;5;124mThe current imgtype is not supported in this file\u001b[39m\u001b[38;5;124m'\u001b[39m\n\u001b[0;32m     63\u001b[0m     \u001b[38;5;66;03m# load attributes\u001b[39;00m\n\u001b[0;32m     64\u001b[0m     \u001b[38;5;28mself\u001b[39m\u001b[38;5;241m.\u001b[39mformat_version \u001b[38;5;241m=\u001b[39m \u001b[38;5;28mself\u001b[39m\u001b[38;5;241m.\u001b[39mget_attr(tcf_io, \u001b[38;5;124m'\u001b[39m\u001b[38;5;124m/\u001b[39m\u001b[38;5;124m'\u001b[39m, \u001b[38;5;124m'\u001b[39m\u001b[38;5;124mFormatVersion\u001b[39m\u001b[38;5;124m'\u001b[39m)\n",
      "\u001b[1;31mAssertionError\u001b[0m: The current imgtype is not supported in this file"
     ]
    }
   ],
   "source": [
    "from TCFile import TCFile\n",
    "import numpy as np\n",
    "import cv2\n",
    "import utils\n",
    "\n",
    "time = 32\n",
    "# Load grayscale base image\n",
    "path = r\"C:\\rkka_Projects\\cell_death_v2\\Data\\9. A549_FasL(20250410)\\250409.170229.A549_FasL_01.025.Group1.A4.T025P01.TCF\"\n",
    "base = TCFile(path, '2DMIP')\n",
    "base_stack = np.array([utils.resize_tomogram_mip(b, base.data_resolution) for b in base])\n",
    "# viewer.add_image(base_stack)\n",
    "\n",
    "colors = ['Blue', 'Green', 'Red']\n",
    "\n",
    "ch0_list = []\n",
    "ch1_list = []\n",
    "ch2_list = []\n",
    "for time in range(len(base)):\n",
    "    for i in range(1):\n",
    "        file = TCFile(path, '3DFL', channel=i, only_one=True)\n",
    "        temp = np.max(file[time], axis=0)\n",
    "        temp = cv2.resize(temp, dsize=base_stack[0].shape)\n",
    "        if i==0:\n",
    "            ch0_list.append(temp)\n",
    "        elif i==1:\n",
    "            ch1_list.append(temp)\n",
    "        elif i==2:\n",
    "            ch2_list.append(temp)\n",
    "            \n",
    "ch0_stack = np.array(ch0_list)    \n",
    "ch1_stack = np.array(ch1_list)\n",
    "ch2_stack = np.array(ch2_list)\n",
    "    \n",
    "viewer.add_image(base_stack)\n",
    "viewer.add_image(ch0_stack, opacity=0.3, colormap=colors[0])\n",
    "# viewer.add_image(ch1_stack, opacity=0.3, colormap=colors[1])\n",
    "# viewer.add_image(ch2_stack, opacity=0.3, colormap=colors[2])"
   ]
  }
 ],
 "metadata": {
  "kernelspec": {
   "display_name": "cell",
   "language": "python",
   "name": "python3"
  },
  "language_info": {
   "codemirror_mode": {
    "name": "ipython",
    "version": 3
   },
   "file_extension": ".py",
   "mimetype": "text/x-python",
   "name": "python",
   "nbconvert_exporter": "python",
   "pygments_lexer": "ipython3",
   "version": "3.12.9"
  }
 },
 "nbformat": 4,
 "nbformat_minor": 5
}
