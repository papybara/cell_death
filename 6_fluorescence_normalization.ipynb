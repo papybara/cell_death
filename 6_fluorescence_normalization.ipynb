{
 "cells": [
  {
   "cell_type": "code",
   "execution_count": 55,
   "id": "19c70c9a",
   "metadata": {},
   "outputs": [],
   "source": [
    "from TCFile import TCFile\n",
    "import numpy as np\n",
    "import torch\n",
    "import cv2\n",
    "from torchvision import models\n",
    "import utils\n",
    "\n",
    "def process(path, time, model, mini_model, crop_size=(160,160), adaptive_crop=False, overlap=True, stride_proportion=0.5,\n",
    "            wanted_patches=[], background_vote=False):\n",
    "    # Load                                                                                    & prep data\n",
    "    file = TCFile(path, '2DMIP')\n",
    "    crop_size = crop_size\n",
    "\n",
    "    slice_2d = utils.resize_tomogram_mip(\n",
    "        file[time],\n",
    "        data_resolution=file.data_resolution,\n",
    "        target_resolution=0.1632,\n",
    "        mode='mip'\n",
    "    )\n",
    "\n",
    "    if adaptive_crop:\n",
    "        # Adjust the patch size if you want the patches to fit the image nicely\n",
    "        residual = slice_2d.shape[0] % crop_size[0]\n",
    "        fit = slice_2d.shape[0] // crop_size[0]\n",
    "        adapt = residual // fit if fit > 0 else 0\n",
    "        crop_size = (crop_size[0] + adapt, crop_size[1] + adapt)\n",
    "        stride = int(crop_size[0]*stride_proportion)\n",
    "\n",
    "    base_image = slice_2d.copy()\n",
    "    # base_image = utils.image_normalization(base_image, min=1.33, max=1.4)\n",
    "\n",
    "    # Normal PyTorch model prep\n",
    "    transform = models.ResNet101_Weights.IMAGENET1K_V2.transforms()\n",
    "    mini_transform = models.ResNet50_Weights.IMAGENET1K_V2.transforms()\n",
    "\n",
    "    model = model.cuda().eval()\n",
    "    mini_model = mini_model.cuda().eval()\n",
    "\n",
    "    # We'll store class votes for each pixel here: (H, W, num_classes)\n",
    "    num_classes = 1+5  # Adjust if you actually have a different number\n",
    "    label_counts = np.zeros((base_image.shape[0], base_image.shape[1], num_classes), dtype=np.int32)\n",
    "    patch_layer = np.zeros((base_image.shape[0], base_image.shape[1]), dtype=np.int32)\n",
    "    \n",
    "    patch_coord = []\n",
    "    wanted_patches = wanted_patches\n",
    "    wanted_probabilities = []\n",
    "    wanted_images = []\n",
    "    \n",
    "    if overlap:\n",
    "        # Overlapping patches: define a smaller stride\n",
    "        # e.g. half the patch size in each dimension\n",
    "        stride_h = stride_w = stride\n",
    "        patch_num = 0\n",
    "\n",
    "        for top in range(0, base_image.shape[0] - crop_size[0] + 1, stride_h):\n",
    "            for left in range(0, base_image.shape[1] - crop_size[1] + 1, stride_w):\n",
    "                patch_coord.append((top, left, crop_size[0]))\n",
    "                # Extract patch\n",
    "                cropped = base_image[top:top+crop_size[0], left:left+crop_size[1]]\n",
    "\n",
    "                # Clamp intensities (like your code)\n",
    "                cropped = np.clip(cropped, 1.33, 1.40)\n",
    "                cropped = utils.image_normalization(cropped, min=1.33, max=1.40)\n",
    "\n",
    "                # Decide if we run the main model or the mini_model logic\n",
    "                temp = cropped.copy()\n",
    "                temp[temp < 45] = 0\n",
    "                temp[temp > 45] = 1\n",
    "                proportion = np.count_nonzero(temp == 1) / (np.count_nonzero(temp == 0) + np.count_nonzero(temp == 1))\n",
    "\n",
    "                if proportion < 0.05:\n",
    "                    # Use mini_model to check necrosis\n",
    "                    mini_temp = cv2.equalizeHist(cropped.astype(np.uint8))\n",
    "                    mini_temp = torch.from_numpy(mini_temp).repeat(3, 1, 1).float()\n",
    "                    mini_temp = mini_transform(mini_temp).cuda()\n",
    "\n",
    "                    is_necrosis = torch.max(mini_model(mini_temp.unsqueeze(0)), 1)[1].item()\n",
    "\n",
    "                    if is_necrosis == 1:\n",
    "                        # If necrosis, run the main model\n",
    "                        image_tensor = torch.from_numpy(cropped).repeat(3, 1, 1).float()\n",
    "                        image_tensor = transform(image_tensor).cuda()\n",
    "                        output = model(image_tensor.unsqueeze(0)).cpu()\n",
    "                        _, pred = torch.max(output, 1)\n",
    "                        class_label = pred.item() + 1  # 0..(num_classes-1)\n",
    "                    else:\n",
    "                        class_label = 0  # or some \"background\" label\n",
    "                else:\n",
    "                    # Directly run main model\n",
    "                    image_tensor = torch.from_numpy(cropped).repeat(3, 1, 1).float()\n",
    "                    image_tensor = transform(image_tensor).cuda()\n",
    "                    output = model(image_tensor.unsqueeze(0)).cpu()\n",
    "                    _, pred = torch.max(output, 1)\n",
    "                    class_label = pred.item() + 1\n",
    "                    \n",
    "                \n",
    "                if patch_num in wanted_patches:\n",
    "                    wanted_probabilities.append(output.detach().numpy())\n",
    "                    wanted_images.append(base_image[top:top+crop_size[0], left:left+crop_size[1]])\n",
    "\n",
    "                # Add a vote for this class in label_counts\n",
    "                label_counts[top:top+crop_size[0], left:left+crop_size[1], class_label] += 1\n",
    "                patch_layer[top:top+crop_size[0], left:left+crop_size[1]] = patch_num\n",
    "                patch_num += 1\n",
    "                \n",
    "    else:\n",
    "        # Original no-overlap approach\n",
    "        patches = utils.crop_patch(slice_2d, crop_size=crop_size, overlap=False)\n",
    "        patch_num = 0\n",
    "        for patch_index, patch in enumerate(patches):\n",
    "            top, left = patch[0], patch[1]\n",
    "            patch_coord.append((top, left, crop_size[0]))\n",
    "            cropped = base_image[top:top+crop_size[0], left:left+crop_size[1]]\n",
    "\n",
    "            cropped = np.clip(cropped, 1.33, 1.40)\n",
    "            cropped = utils.image_normalization(cropped, min=1.33, max=1.40)\n",
    "\n",
    "            temp = cropped.copy()\n",
    "            temp[temp < 45] = 0\n",
    "            temp[temp > 45] = 1\n",
    "            proportion = np.count_nonzero(temp == 1) / (np.count_nonzero(temp == 0) + np.count_nonzero(temp == 1))\n",
    "\n",
    "            if proportion < 0.05:\n",
    "                mini_temp = cv2.equalizeHist(cropped.astype(np.uint8))\n",
    "                mini_temp = torch.from_numpy(mini_temp).repeat(3, 1, 1).float()\n",
    "                mini_temp = mini_transform(mini_temp).cuda()\n",
    "                is_necrosis = torch.max(mini_model(mini_temp.unsqueeze(0)), 1)[1].item()\n",
    "\n",
    "                if is_necrosis == 1:\n",
    "                    image_tensor = torch.from_numpy(cropped).repeat(3, 1, 1).float()\n",
    "                    image_tensor = transform(image_tensor).cuda()\n",
    "                    output = model(image_tensor.unsqueeze(0)).cpu()\n",
    "                    _, pred = torch.max(output, 1)\n",
    "                    class_label = pred.item() + 1\n",
    "                else:\n",
    "                    class_label = 0\n",
    "            else:\n",
    "                image_tensor = torch.from_numpy(cropped).repeat(3, 1, 1).float()\n",
    "                image_tensor = transform(image_tensor).cuda()\n",
    "                output = model(image_tensor.unsqueeze(0)).cpu()\n",
    "                _, pred = torch.max(output, 1)\n",
    "                class_label = pred.item() + 1\n",
    "                \n",
    "                \n",
    "            if patch_num in wanted_patches:\n",
    "                wanted_probabilities.append(output.detach().numpy())\n",
    "                wanted_images.append(base_image[top:top+crop_size[0], left:left+crop_size[1]])\n",
    "                \n",
    "            label_counts[top:top+crop_size[0], left:left+crop_size[1], class_label] += 1\n",
    "            patch_layer[top:top+crop_size[0], left:left+crop_size[1]] = patch_num\n",
    "            patch_num += 1\n",
    "    # Final pixelwise label = most frequent vote + 1 (if you want 1-based classes)\n",
    "    # label_image = np.argmax(label_counts, axis=-1)\n",
    "    \n",
    "    # --- MODIFIED FINAL LABEL ASSIGNMENT ---\n",
    "    # Final pixelwise label assignment with background priority\n",
    "\n",
    "    # Calculate the standard argmax first (most frequent vote overall)\n",
    "    provisional_label_image = np.argmax(label_counts, axis=-1)\n",
    "\n",
    "    if background_vote:\n",
    "        # Identify pixels where at least one patch voted for background (class 0)\n",
    "        # label_counts[:, :, 0] accesses the counts for class 0 for all pixels\n",
    "        total = np.sum(label_counts, axis=2)\n",
    "        has_background_vote = 0.15 < label_counts[:, :, 0]/total\n",
    "\n",
    "        # Initialize the final label image with the provisional result\n",
    "        label_image = provisional_label_image.copy()\n",
    "\n",
    "        # Override: wherever a background vote exists, set the final label to 0\n",
    "        label_image[has_background_vote] = 0\n",
    "        # --- END OF MODIFIED SECTION ---\n",
    "    else:\n",
    "        label_image = provisional_label_image.copy()\n",
    "\n",
    "    return base_image, label_image, patch_layer, patch_coord, wanted_probabilities, wanted_images\n"
   ]
  },
  {
   "cell_type": "code",
   "execution_count": 56,
   "id": "788a7a5a",
   "metadata": {},
   "outputs": [
    {
     "name": "stderr",
     "output_type": "stream",
     "text": [
      "c:\\miniconda3\\envs\\cell\\Lib\\site-packages\\torchvision\\models\\_utils.py:208: UserWarning: The parameter 'pretrained' is deprecated since 0.13 and may be removed in the future, please use 'weights' instead.\n",
      "  warnings.warn(\n",
      "c:\\miniconda3\\envs\\cell\\Lib\\site-packages\\torchvision\\models\\_utils.py:223: UserWarning: Arguments other than a weight enum or `None` for 'weights' are deprecated since 0.13 and may be removed in the future. The current behavior is equivalent to passing `weights=ResNet101_Weights.IMAGENET1K_V1`. You can also use `weights=ResNet101_Weights.DEFAULT` to get the most up-to-date weights.\n",
      "  warnings.warn(msg)\n",
      "c:\\miniconda3\\envs\\cell\\Lib\\site-packages\\torchvision\\models\\_utils.py:223: UserWarning: Arguments other than a weight enum or `None` for 'weights' are deprecated since 0.13 and may be removed in the future. The current behavior is equivalent to passing `weights=ResNet50_Weights.IMAGENET1K_V1`. You can also use `weights=ResNet50_Weights.DEFAULT` to get the most up-to-date weights.\n",
      "  warnings.warn(msg)\n",
      "  0%|          | 0/1 [00:00<?, ?it/s]C:\\Users\\mw\\AppData\\Local\\Temp\\ipykernel_26508\\238050702.py:165: RuntimeWarning: invalid value encountered in divide\n",
      "  has_background_vote = 0.15 < label_counts[:, :, 0]/total\n",
      "100%|██████████| 1/1 [00:04<00:00,  4.43s/it]\n"
     ]
    }
   ],
   "source": [
    "from tqdm import tqdm\n",
    "import torch\n",
    "from torchvision import models\n",
    "import utils\n",
    "import numpy as np\n",
    "\n",
    "path = r\"C:\\rkka_Projects\\cell_death_v2\\Data\\Large_FOV\\240808.200653.death_B4C4B5.005.Group2.C4.T001P01.TCF\"\n",
    "class_num = 5\n",
    "model_path = r\"C:\\rkka_Projects\\cell_death_v2\\trained_models\\test_5_classes_22.032991_0.9728_sota.pth\"\n",
    "mini_model_path = r\"C:\\rkka_Projects\\cell_death_v2\\trained_models\\mini_ai_epoch_9_0.000861_1.0000.pth\"\n",
    "file = TCFile(path, '2DMIP')\n",
    "# Load Model\n",
    "model = models.resnet101(pretrained=True)\n",
    "num_features = model.fc.in_features\n",
    "model.fc = torch.nn.Sequential(\n",
    "    torch.nn.Dropout(0.2),\n",
    "    torch.nn.Linear(num_features, 5)\n",
    ")\n",
    "model.load_state_dict(torch.load(model_path))\n",
    "\n",
    "# Load mini Model\n",
    "mini_model = models.resnet50(pretrained=True)\n",
    "num_features = mini_model.fc.in_features\n",
    "mini_model.fc = torch.nn.Sequential(\n",
    "    torch.nn.Dropout(0.2),\n",
    "    torch.nn.Linear(num_features, 2)\n",
    ")\n",
    "mini_model.load_state_dict(torch.load(mini_model_path))\n",
    "\n",
    "# Process\n",
    "base_stack = []\n",
    "label_stack = []\n",
    "probabilities_stack = []\n",
    "\n",
    "times = [8]\n",
    "\n",
    "# wanted_patches = [110, 334, 329, 258, 192]\n",
    "# wanted_patches = [0]\n",
    "\n",
    "# for i in tqdm(range(len(file))):\n",
    "for i in tqdm(times):\n",
    "    # base_image, label_image = process(path, i, model, mini_model, adaptive_crop=True)\n",
    "    base_image, label_image, patch_layer, patch_coord, wanted_probabilities, wanted_images = process(path, i, model, mini_model, \n",
    "                                                                                                     crop_size=(160,160),\n",
    "                                      adaptive_crop=True, overlap=False, stride_proportion=0.1, wanted_patches=[],\n",
    "                                      background_vote=True)\n",
    "    base_stack.append(base_image)\n",
    "    label_stack.append(label_image)"
   ]
  },
  {
   "cell_type": "code",
   "execution_count": 58,
   "id": "c3b26fa2",
   "metadata": {},
   "outputs": [
    {
     "data": {
      "text/plain": [
       "<Labels layer 'patch_layer' at 0x296b803d400>"
      ]
     },
     "execution_count": 58,
     "metadata": {},
     "output_type": "execute_result"
    }
   ],
   "source": [
    "viewer.add_image(np.array(base_stack))\n",
    "viewer.add_labels(patch_layer)"
   ]
  },
  {
   "cell_type": "code",
   "execution_count": 1,
   "id": "5b7244f2",
   "metadata": {},
   "outputs": [],
   "source": [
    "from tqdm import tqdm\n",
    "from TCFile import TCFile\n",
    "import utils\n",
    "import numpy as np\n",
    "\n",
    "path = r\"C:\\rkka_Projects\\cell_death_v2\\Data\\Large_FOV\\240808.200653.death_B4C4B5.005.Group2.C4.T001P01.TCF\"\n",
    "file = TCFile(path, '2DMIP')\n",
    "base_stack_array = np.array([utils.resize_tomogram_mip(f, file.data_resolution, 0.1632, 'mip') for f in file])"
   ]
  },
  {
   "cell_type": "code",
   "execution_count": 2,
   "id": "58d2b4ef",
   "metadata": {},
   "outputs": [],
   "source": [
    "import napari\n",
    "viewer = napari.Viewer()"
   ]
  },
  {
   "cell_type": "code",
   "execution_count": 59,
   "id": "586e0e65",
   "metadata": {},
   "outputs": [],
   "source": [
    "from TCFile import TCFile\n",
    "import numpy as np\n",
    "import cv2\n",
    "\n",
    "time = 8\n",
    "center = (900, 145)\n",
    "\n",
    "base = base_stack_array[0].copy()\n",
    "# viewer.add_image(base_stack)\n",
    "\n",
    "colors = ['Blue', 'Green', 'Red']\n",
    "\n",
    "ch0_list = []\n",
    "ch1_list = []\n",
    "ch2_list = []\n",
    "for i in range(3):\n",
    "    file = TCFile(path, '3DFL', channel=i, only_one=False)\n",
    "    temp = np.max(file[time], axis=0)\n",
    "    temp = cv2.resize(temp, dsize=base.shape)\n",
    "    if i==0:\n",
    "        ch0_list.append(temp)\n",
    "    elif i==1:\n",
    "        ch1_list.append(temp)\n",
    "    elif i==2:\n",
    "        ch2_list.append(temp)\n",
    "            \n",
    "ch0_stack = np.array(ch0_list)\n",
    "ch1_stack = np.array(ch1_list)\n",
    "ch2_stack = np.array(ch2_list)"
   ]
  },
  {
   "cell_type": "code",
   "execution_count": null,
   "id": "44e20048",
   "metadata": {},
   "outputs": [],
   "source": [
    "from PIL import Image\n",
    "import matplotlib.pyplot as plt\n",
    "\n",
    "ch0 = ch0_stack[0] / 282.75906\n",
    "ch1 = ch1_stack[0] / 125.01688\n",
    "ch2 = ch2_stack[0] / 4.676991\n",
    "\n",
    "# --- 각 채널별 색상 정의 (0-255 범위) ---\n",
    "color_ch0 = np.array([0, 0, 255], dtype=np.uint8)\n",
    "color_ch1 = np.array([0, 255, 0], dtype=np.uint8) # 초록색이 강한 노란빛\n",
    "color_ch2 = np.array([255, 0, 0], dtype=np.uint8) # 빨간색이 강한 주황빛\n",
    "\n",
    "# --- 빈 RGB 이미지 생성 (0-1 범위의 float 타입으로 시작) ---\n",
    "# 나중에 0-255 범위로 변환하고 uint8로 캐스팅할 예정\n",
    "# 오버플로우를 방지하기 위해 float으로 계산 후 클리핑\n",
    "output_image_float = np.zeros((ch0.shape[0], ch0.shape[1], 3), dtype=float)\n",
    "\n",
    "# --- 각 채널의 색상 적용 및 오버레이 ---\n",
    "# ch0 (Blue)\n",
    "# np.newaxis를 사용하여 (height, width) 배열을 (height, width, 1)로 만들어 브로드캐스팅 가능하게 함\n",
    "output_image_float += ch0[..., np.newaxis] * (color_ch0 / 255.0)\n",
    "\n",
    "# ch1 (Green-Yellow)\n",
    "output_image_float += ch1[..., np.newaxis] * (color_ch1 / 255.0)\n",
    "\n",
    "# ch2 (Red-Orange)\n",
    "output_image_float += ch2[..., np.newaxis] * (color_ch2 / 255.0)\n",
    "\n",
    "# --- 정규화 및 0-255 범위로 변환 ---\n",
    "# 각 채널 강도가 이미 [0,1]로 정규화되어 있고, 색상 값도 [0,1]로 스케일링하여 곱했으므로,\n",
    "# 합산된 결과가 1.0을 초과할 수 있습니다. (예: 모든 채널이 최대 강도인 경우)\n",
    "# 따라서 [0,1] 범위로 클리핑하거나, 최대값으로 나누어 다시 정규화할 수 있습니다.\n",
    "# 여기서는 간단히 [0,1]로 클리핑합니다.\n",
    "output_image_float = np.clip(output_image_float, 0, 1)\n",
    "\n",
    "# 0-255 범위로 스케일링하고 uint8 타입으로 변환\n",
    "output_image_uint8 = (output_image_float * 255).astype(np.uint8)\n",
    "output_image_uint8[:,:,1] = np.clip(output_image_uint8[:,:,1], 5, 255)\n",
    "\n",
    "image = output_image_uint8[center[0]-75:center[0]+75, center[1]-120:center[1]+105]\n",
    "image = Image.fromarray(image)\n",
    "image.save(f'figures/figure4/cell_4h_flu_{0}.png')"
   ]
  },
  {
   "cell_type": "code",
   "execution_count": 73,
   "id": "cbe47058",
   "metadata": {},
   "outputs": [
    {
     "data": {
      "text/plain": [
       "<Image layer 'output_image_uint8 [2]' at 0x29699711fa0>"
      ]
     },
     "execution_count": 73,
     "metadata": {},
     "output_type": "execute_result"
    }
   ],
   "source": [
    "viewer.add_image(output_image_uint8)"
   ]
  },
  {
   "cell_type": "code",
   "execution_count": 90,
   "id": "547f1522",
   "metadata": {},
   "outputs": [
    {
     "data": {
      "text/plain": [
       "(820, 0, 164)"
      ]
     },
     "execution_count": 90,
     "metadata": {},
     "output_type": "execute_result"
    }
   ],
   "source": [
    "patch_coord[110]"
   ]
  },
  {
   "cell_type": "code",
   "execution_count": 85,
   "id": "5052c42e",
   "metadata": {},
   "outputs": [
    {
     "data": {
      "text/plain": [
       "<matplotlib.image.AxesImage at 0x2969a116690>"
      ]
     },
     "execution_count": 85,
     "metadata": {},
     "output_type": "execute_result"
    },
    {
     "data": {
      "image/png": "[encoded data removed]",
      "text/plain": [
       "<Figure size 640x480 with 1 Axes>"
      ]
     },
     "metadata": {},
     "output_type": "display_data"
    }
   ],
   "source": [
    "plt.imshow(output_image_uint8[2296:2296+164, 3444:3444+164])"
   ]
  },
  {
   "cell_type": "code",
   "execution_count": 91,
   "id": "f3594196",
   "metadata": {},
   "outputs": [],
   "source": [
    "image = output_image_uint8[820:820+164, 0:0+164]\n",
    "image = Image.fromarray(image)\n",
    "image.save(f'figures/figure4/cell_4h_flu_b.png')"
   ]
  },
  {
   "cell_type": "code",
   "execution_count": null,
   "id": "5b35b2c9",
   "metadata": {},
   "outputs": [],
   "source": []
  },
  {
   "cell_type": "code",
   "execution_count": 83,
   "id": "f7a5e11a",
   "metadata": {},
   "outputs": [
    {
     "data": {
      "image/png": "[encoded data removed]",
      "text/plain": [
       "<Figure size 600x100 with 1 Axes>"
      ]
     },
     "metadata": {},
     "output_type": "display_data"
    },
    {
     "data": {
      "image/png": "[encoded data removed]",
      "text/plain": [
       "<Figure size 640x480 with 2 Axes>"
      ]
     },
     "metadata": {},
     "output_type": "display_data"
    }
   ],
   "source": [
    "import matplotlib.pyplot as plt\n",
    "import matplotlib.colors as mcolors\n",
    "import numpy as np\n",
    "\n",
    "# 1. Define the colors for the colormap\n",
    "#    The list contains tuples of (value, color).\n",
    "#    Values should be normalized between 0 and 1.\n",
    "#    For a simple black-to-red, we define black at 0 and red at 1.\n",
    "colors = [(0, \"black\"), (1, \"blue\")]\n",
    "cmap_name = 'black_to_green'\n",
    "cm = mcolors.LinearSegmentedColormap.from_list(cmap_name, colors)\n",
    "\n",
    "# 2. Create a figure and an axes for the colorbar\n",
    "fig, ax = plt.subplots(figsize=(6, 1)) # Adjust figsize as needed\n",
    "fig.subplots_adjust(bottom=0.5) # Adjust layout to make space for the colorbar\n",
    "\n",
    "# 3. Create a ScalarMappable\n",
    "#    This object maps normalized data values (0-1) to the colormap.\n",
    "#    We need some dummy data for the normalization.\n",
    "norm = mcolors.Normalize(vmin=0, vmax=1)\n",
    "sm = plt.cm.ScalarMappable(cmap=cm, norm=norm)\n",
    "sm.set_array([]) # You can set an empty array or actual data\n",
    "\n",
    "# 4. Add the colorbar to the figure\n",
    "#    'cax=ax' uses the predefined axes for the colorbar.\n",
    "#    'orientation=\"horizontal\"' makes it a horizontal colorbar.\n",
    "cbar = fig.colorbar(sm, cax=ax, orientation=\"horizontal\")\n",
    "cbar.set_label('Intensity (Black to Red)')\n",
    "\n",
    "plt.suptitle('Custom Black-to-Red Colorbar', y=0.95)\n",
    "plt.savefig('blue.svg', format='svg')\n",
    "plt.show()\n",
    "\n",
    "# --- To use this colormap in a plot (e.g., an image) ---\n",
    "# Generate some sample data\n",
    "data = np.random.rand(10, 10)\n",
    "\n",
    "fig_img, ax_img = plt.subplots()\n",
    "img = ax_img.imshow(data, cmap=cm) # Use the custom colormap 'cm'\n",
    "fig_img.colorbar(img, label='Data Value')\n",
    "ax_img.set_title('Image with Black-to-Red Colormap')\n",
    "plt.show()"
   ]
  }
 ],
 "metadata": {
  "kernelspec": {
   "display_name": "cell",
   "language": "python",
   "name": "python3"
  },
  "language_info": {
   "codemirror_mode": {
    "name": "ipython",
    "version": 3
   },
   "file_extension": ".py",
   "mimetype": "text/x-python",
   "name": "python",
   "nbconvert_exporter": "python",
   "pygments_lexer": "ipython3",
   "version": "3.12.9"
  }
 },
 "nbformat": 4,
 "nbformat_minor": 5
}
