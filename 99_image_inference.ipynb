{
 "cells": [
  {
   "cell_type": "code",
   "execution_count": 42,
   "id": "7c8789df",
   "metadata": {},
   "outputs": [],
   "source": [
    "from PIL import Image\n",
    "import torch\n",
    "import utils\n",
    "from torchvision import models\n",
    "import numpy as np\n",
    "from PIL import Image\n",
    "\n",
    "model_path = r\"C:\\rkka_Projects\\cell_death_v2\\trained_models\\test_5_classes_22.032991_0.9728_sota.pth\"\n",
    "path = r\"C:\\rkka_Projects\\cell_death_v2\\Data\\model_training\\mip\\test\\0_TreatedAlive\\230510.HeLa_TNF (12)_patch_6_t_0.png\"\n",
    "\n",
    "# Load Model\n",
    "model = models.resnet101(pretrained=True)\n",
    "num_features = model.fc.in_features\n",
    "model.fc = torch.nn.Sequential(\n",
    "    torch.nn.Dropout(0.2),\n",
    "    torch.nn.Linear(num_features, 5)\n",
    ")\n",
    "model.load_state_dict(torch.load(model_path))\n",
    "model = model.cuda()\n",
    "\n",
    "transform = models.ResNet101_Weights.IMAGENET1K_V2.transforms()\n",
    "image = Image.open(path).convert('L')\n",
    "image = np.array(image) \n",
    "\n",
    "image = torch.from_numpy(image)\n",
    "\n",
    "outputs = []\n",
    "labels = []\n",
    "with torch.no_grad():\n",
    "    model = model.eval()\n",
    "    image = image.unsqueeze(0).repeat(3,1,1).float()\n",
    "    image = transform(image)\n",
    "    output = model(image.unsqueeze(0).cuda())\n",
    "    outputs.append(output)\n",
    "    labels.append(int(torch.max(output, 1)[1].cpu().numpy()[0]))"
   ]
  },
  {
   "cell_type": "code",
   "execution_count": 43,
   "id": "4682bcda",
   "metadata": {},
   "outputs": [
    {
     "data": {
      "text/plain": [
       "array([0.0048331 , 0.011102  , 0.00635452, 0.00380736, 0.97390294],\n",
       "      dtype=float32)"
      ]
     },
     "execution_count": 43,
     "metadata": {},
     "output_type": "execute_result"
    }
   ],
   "source": [
    "import torch.nn.functional as F\n",
    "with torch.no_grad():\n",
    "    # output = torch.from_numpy(wanted_probabilities[0])\n",
    "    # Apply softmax to get probabilities\n",
    "    probabilities = []\n",
    "    for output in outputs:\n",
    "        probs = F.softmax(output.cpu(), dim=1)  # shape: [1, 5]\n",
    "        # If you want it as a simple list or tensor\n",
    "        probs = probs.squeeze()  # shape: [5]\n",
    "        probs = probs.numpy()\n",
    "        probabilities.append(probs)\n",
    "        \n",
    "probs"
   ]
  }
 ],
 "metadata": {
  "kernelspec": {
   "display_name": "cell",
   "language": "python",
   "name": "python3"
  },
  "language_info": {
   "codemirror_mode": {
    "name": "ipython",
    "version": 3
   },
   "file_extension": ".py",
   "mimetype": "text/x-python",
   "name": "python",
   "nbconvert_exporter": "python",
   "pygments_lexer": "ipython3",
   "version": "3.12.9"
  }
 },
 "nbformat": 4,
 "nbformat_minor": 5
}
