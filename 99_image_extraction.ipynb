{
 "cells": [
  {
   "cell_type": "code",
   "execution_count": 1,
   "id": "a56b0550",
   "metadata": {},
   "outputs": [],
   "source": [
    "from TCFile import TCFile\n",
    "import napari\n",
    "\n",
    "viewer = napari.Viewer()"
   ]
  },
  {
   "cell_type": "code",
   "execution_count": 53,
   "id": "3e7bb350",
   "metadata": {},
   "outputs": [
    {
     "name": "stderr",
     "output_type": "stream",
     "text": [
      "c:\\miniconda3\\envs\\cell\\Lib\\site-packages\\TCFile\\TCFile_class.py:190: UserWarning: You use an experimental file format deprecated.\n",
      "Update your reconstruction program and rebuild TCF file.\n",
      "  warnings.warn((\"You use an experimental file format deprecated.\\n\"\n"
     ]
    },
    {
     "data": {
      "text/plain": [
       "<Image layer 'image [2]' at 0x2de163c4e30>"
      ]
     },
     "execution_count": 53,
     "metadata": {},
     "output_type": "execute_result"
    }
   ],
   "source": [
    "import utils\n",
    "import numpy as np\n",
    "path = r\"C:\\rkka_Projects\\cell_death_v2\\Data\\0_Necrosis\\230725.094439.HeLa_NaOH.002.Group1.A1.T002P01.TCF\"\n",
    "file = TCFile(path, '2DMIP')\n",
    "image = np.array([utils.resize_tomogram_mip(f, data_resolution=file.data_resolution, target_resolution=0.1632, mode='mip') for f in file])\n",
    "# image = np.array([f for f in file])\n",
    "viewer.add_image(image)"
   ]
  },
  {
   "cell_type": "code",
   "execution_count": 39,
   "id": "e3728521",
   "metadata": {},
   "outputs": [],
   "source": [
    "from PIL import Image\n",
    "\n",
    "time = 54\n",
    "center = (688, 546)\n",
    "temp = image[time][center[0]-80:center[0]+80, center[1]-80:center[1]+80]\n",
    "temp = utils.image_normalization(temp, min=1.33, max=1.40)\n",
    "temp = Image.fromarray(temp)\n",
    "temp.save(f'figures/figure_supplementary/Fas_cell_{2}_timelapse_{center[0]}_{center[1]}_{time//3}h.png')"
   ]
  },
  {
   "cell_type": "code",
   "execution_count": 54,
   "id": "b575ee8c",
   "metadata": {},
   "outputs": [],
   "source": [
    "from PIL import Image\n",
    "\n",
    "time = 18\n",
    "\n",
    "temp = image[time]\n",
    "temp = utils.image_normalization(temp, min=1.33, max=1.40)\n",
    "temp = Image.fromarray(temp[0:1009, 0:1009])\n",
    "temp.save(f'figures/figure_supplementary/whole_necrosis_NaOH_{time//3}h.png')"
   ]
  },
  {
   "cell_type": "code",
   "execution_count": 49,
   "id": "0af5afbb",
   "metadata": {},
   "outputs": [
    {
     "data": {
      "text/plain": [
       "(1009, 1009)"
      ]
     },
     "execution_count": 49,
     "metadata": {},
     "output_type": "execute_result"
    }
   ],
   "source": [
    "image[0].shape"
   ]
  }
 ],
 "metadata": {
  "kernelspec": {
   "display_name": "cell",
   "language": "python",
   "name": "python3"
  },
  "language_info": {
   "codemirror_mode": {
    "name": "ipython",
    "version": 3
   },
   "file_extension": ".py",
   "mimetype": "text/x-python",
   "name": "python",
   "nbconvert_exporter": "python",
   "pygments_lexer": "ipython3",
   "version": "3.12.9"
  }
 },
 "nbformat": 4,
 "nbformat_minor": 5
}
